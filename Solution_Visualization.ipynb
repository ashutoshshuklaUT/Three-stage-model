{
 "cells": [
  {
   "cell_type": "code",
   "execution_count": 2,
   "id": "bcca56ec",
   "metadata": {},
   "outputs": [],
   "source": [
    "import os\n",
    "import json\n",
    "import pickle\n",
    "import numpy as np\n",
    "import pandas as pd\n",
    "from utils import *\n",
    "from three_stage_model import *\n",
    "pd.set_option('display.max_rows',500)\n",
    "pd.set_option('display.max_columns',500)\n",
    "import matplotlib.pyplot as plt\n",
    "import matplotlib as mpl\n",
    "from matplotlib.colors import ListedColormap\n",
    "import matplotlib.colors as mcolors\n",
    "%matplotlib inline\n",
    "\n",
    "def get_df_for_heuristic():\n",
    "    df = pd.read_csv(\"/Users/ashutoshshukla/Desktop/ThreeStageModel/data/192_Scenario/Final_Input1.csv\")\n",
    "    directions = [\"w\", \"wnw\", \"nw\", \"nnw\", \"n\", \"nne\"]\n",
    "    categories = [\"2\", \"3\", \"4\", \"5\"]\n",
    "    forward_speeds = [\"05\", \"10\", \"15\", \"25\"]\n",
    "    lister = []\n",
    "    for i in directions:\n",
    "        for j in range(len(categories)):\n",
    "            for k in range(len(forward_speeds)):\n",
    "                lister.append(\"max_flood_level_\" + i +\"_\" + categories[j] + \"_\" + forward_speeds[k])\n",
    "    df = df[list(df.columns[0:9]) + lister]\n",
    "    df_sub = df[[\"SubNum\", \"load\"]].groupby(\"SubNum\").sum()\n",
    "    df_flood = df[[\"SubNum\"] + lister]\n",
    "    df_flood = df_flood.drop_duplicates().set_index(\"SubNum\") # drop duplicates\n",
    "    df_flood = df_flood.loc[(df_flood.sum(axis=1) != 0), :] # drop substations that are not flooded\n",
    "    \"\"\"df_sub has load demand for all the substations\"\"\"\n",
    "    \"\"\"df_flood has only flooded substations\"\"\"\n",
    "    return df, df_sub, df_flood\n",
    "\n",
    "df, df_sub, df_flood = get_df_for_heuristic()"
   ]
  },
  {
   "cell_type": "markdown",
   "id": "e2cee3bb-dad5-495a-a9aa-efcb218db2fa",
   "metadata": {},
   "source": [
    "# Debug"
   ]
  },
  {
   "cell_type": "code",
   "execution_count": 35,
   "id": "98f37aa3-0b29-494e-aa5e-a8dc65b916d6",
   "metadata": {},
   "outputs": [
    {
     "name": "stdout",
     "output_type": "stream",
     "text": [
      "25\n",
      "first,\t 96\n",
      "Second,\t 96\n"
     ]
    },
    {
     "name": "stderr",
     "output_type": "stream",
     "text": [
      "/var/folders/fp/6t_nm_y57cdgtz0cbgyt17nm0000gn/T/ipykernel_28956/3244263018.py:100: UserWarning: This figure includes Axes that are not compatible with tight_layout, so results might be incorrect.\n",
      "  plt.tight_layout()\n"
     ]
    },
    {
     "data": {
      "text/plain": [
       "<Figure size 720x360 with 0 Axes>"
      ]
     },
     "metadata": {},
     "output_type": "display_data"
    },
    {
     "data": {
      "image/png": "[encoded data removed]",
      "text/plain": [
       "<Figure size 400x288 with 2 Axes>"
      ]
     },
     "metadata": {
      "needs_background": "light"
     },
     "output_type": "display_data"
    }
   ],
   "source": [
    "model_name_list = [25]\n",
    "# model_name_list = [250]\n",
    "\n",
    "for voll_c in model_name_list:\n",
    "    print(voll_c)\n",
    "    # model_name = \"vc_\" + str(voll_c)\n",
    "    model_name = \"perfect_prediction\"\n",
    "    main_path = \"/Users/ashutoshshukla/Downloads/output/\" + model_name + \"/\"\n",
    "\n",
    "    with open(main_path + \"model_params.json\", 'r') as f:\n",
    "        params = json.load(f)   \n",
    "    params[\"path_to_input\"] = os.getcwd() + \"/data/192_Scenario/\"\n",
    "\n",
    "    with open(main_path + \"model_scenarios.json\", 'r') as f:\n",
    "        model_scenarios_string = json.load(f)\n",
    "\n",
    "    model_scenarios = {}\n",
    "    for k in model_scenarios_string:\n",
    "        model_scenarios[int(k)] = model_scenarios_string[k]\n",
    "\n",
    "    base_model = three_stage_model(params, model_scenarios)\n",
    "    base_model.model.update()\n",
    "    sol_path = main_path + \"solution.sol\"\n",
    "    base_model.model.read(sol_path)\n",
    "    base_model.model.update()\n",
    "\n",
    "    hardening_decisions = {}\n",
    "    tiger_dam_decisions = {}\n",
    "\n",
    "    for sub_id in df_flood.index:\n",
    "        hardening_decisions[sub_id] = round(base_model.x_mit[sub_id].Start*params[\"mit_level\"])\n",
    "    for sub_id in df_flood.index:\n",
    "        for j in model_scenarios:\n",
    "            tiger_dam_decisions[str(sub_id) + \"_\" + str(j)] = round(base_model.x_prep[sub_id,j].Start*params[\"prep_level\"])\n",
    "    \n",
    "    print(\"first,\\t\", len(model_scenarios.keys()))\n",
    "    df_plot = pd.DataFrame(index=df_flood.index, columns=np.arange(0,len(model_scenarios.keys()),1))\n",
    "    \n",
    "    lister = []\n",
    "    for i in df_plot.index:\n",
    "        for j in df_plot.columns:\n",
    "            temp = str(i) + \"_\" + str(j)\n",
    "            td_value = tiger_dam_decisions[temp]\n",
    "            flood = df_flood.loc[i, model_scenarios[j]].max()\n",
    "            if td_value == 0:\n",
    "                if flood == 0:\n",
    "                    df_plot.loc[i,j] = 0.0\n",
    "                else:\n",
    "                    df_plot.loc[i,j] = 1.0\n",
    "            else:\n",
    "                if td_value >= flood:\n",
    "                    df_plot.loc[i,j] = 2.0\n",
    "                else:\n",
    "                    df_plot.loc[i,j] = 3.0\n",
    "        if hardening_decisions[i] > 0:\n",
    "            lister.append(4.0)\n",
    "        else:\n",
    "            lister.append(5.0)\n",
    "\n",
    "    df_plot[\"hardening\"] = lister\n",
    "    df_plot[\"hardening1\"] = lister\n",
    "    df_plot[\"hardening2\"] = lister\n",
    "    df_plot[\"hardening3\"] = lister\n",
    "    \n",
    "    # reorganizing columns to have hardening and non-hardening decisions on left side.\n",
    "    temp_list1 = list(df_plot.columns[-4:])\n",
    "    \n",
    "    print(\"Second,\\t\", len(model_scenarios.keys()))\n",
    "    for i in range(len(model_scenarios.keys())):\n",
    "        temp_list1.append(i)\n",
    "    df_plot = df_plot[temp_list1]\n",
    "    \n",
    "    # sorting by index of average flood values\n",
    "    df_plot = df_plot.loc[list(df_flood.mean(axis=1).sort_values().index)]\n",
    "\n",
    "    colormap_mapping = {\n",
    "            0.0: 'tab:red',\n",
    "            1.0: 'blue',\n",
    "            2.0: 'green',\n",
    "            3.0: 'orange',\n",
    "            4.0: 'black',\n",
    "            5.0: \"yellow\"\n",
    "        }\n",
    "    colors = [colormap_mapping[i] for i in range(6)]\n",
    "    cmap = mpl.colors.ListedColormap(colors)\n",
    "\n",
    "    plt.figure(figsize=(10,5))\n",
    "    plt.matshow(df_plot.iloc[:,:].values.astype(float),cmap=cmap)\n",
    "    plt.xticks([])\n",
    "    plt.yticks([])\n",
    "    cb = plt.colorbar(shrink=0.8)\n",
    "    # labels = np.arange(0,6, 0.2)\n",
    "    loc    = [0.45,1.25,2.1,2.9,3.75,4.6]\n",
    "    cb.set_ticks(loc)\n",
    "    l1 = [\"td = max_flood = 0\", \"td = 0 < max_flood\", \"td >= max_flood > 0\",\n",
    "          \"0 <td < max_flood\", \"hardened\", \"not hardened\"]\n",
    "\n",
    "    cb.set_ticklabels(l1)\n",
    "    plt.tick_params(which = 'both', size = 0, labelsize = 0)\n",
    "    plt.tight_layout()\n",
    "    plt.xlabel(\"Preparedness Models\")\n",
    "    plt.ylabel(\"Substations\")\n",
    "    plt.savefig(\"output_plots/\" + model_name + \".pdf\", format=\"pdf\", bbox_inches=\"tight\")\n",
    "    plt.show()"
   ]
  },
  {
   "cell_type": "code",
   "execution_count": null,
   "id": "13b6caa6-27f4-46e0-a261-052bb90eb15c",
   "metadata": {},
   "outputs": [],
   "source": []
  }
 ],
 "metadata": {
  "kernelspec": {
   "display_name": "Python 3 (ipykernel)",
   "language": "python",
   "name": "python3"
  },
  "language_info": {
   "codemirror_mode": {
    "name": "ipython",
    "version": 3
   },
   "file_extension": ".py",
   "mimetype": "text/x-python",
   "name": "python",
   "nbconvert_exporter": "python",
   "pygments_lexer": "ipython3",
   "version": "3.10.9"
  }
 },
 "nbformat": 4,
 "nbformat_minor": 5
}
