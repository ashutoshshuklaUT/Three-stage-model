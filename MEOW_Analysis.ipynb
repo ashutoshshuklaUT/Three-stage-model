{
 "cells": [
  {
   "cell_type": "code",
   "execution_count": 7,
   "id": "bb94130a-7265-482c-82d9-a7141c39597d",
   "metadata": {},
   "outputs": [],
   "source": [
    "import numpy as np\n",
    "import pandas as pd\n",
    "import matplotlib.pyplot as plt"
   ]
  },
  {
   "cell_type": "code",
   "execution_count": 2,
   "id": "ef14db91-5bd6-4165-b405-eab89ab1b566",
   "metadata": {},
   "outputs": [],
   "source": [
    "df = pd.read_csv(\"/Users/ashutoshshukla/Desktop/Data/fixed_reduced_grid/48_Scenario/Final_Input1.csv\")"
   ]
  },
  {
   "cell_type": "code",
   "execution_count": null,
   "id": "049c3f88-e88d-42b8-9890-0619b5343f0f",
   "metadata": {},
   "outputs": [],
   "source": []
  }
 ],
 "metadata": {
  "kernelspec": {
   "display_name": "Python 3 (ipykernel)",
   "language": "python",
   "name": "python3"
  },
  "language_info": {
   "codemirror_mode": {
    "name": "ipython",
    "version": 3
   },
   "file_extension": ".py",
   "mimetype": "text/x-python",
   "name": "python",
   "nbconvert_exporter": "python",
   "pygments_lexer": "ipython3",
   "version": "3.10.9"
  }
 },
 "nbformat": 4,
 "nbformat_minor": 5
}
