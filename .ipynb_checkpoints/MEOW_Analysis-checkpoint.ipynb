{
 "cells": [
  {
   "cell_type": "code",
   "execution_count": null,
   "id": "bb94130a-7265-482c-82d9-a7141c39597d",
   "metadata": {},
   "outputs": [],
   "source": [
    "import pandas as pd\n",
    "import matplotlib.pyplot as plt"
   ]
  },
  {
   "cell_type": "code",
   "execution_count": null,
   "id": "ef14db91-5bd6-4165-b405-eab89ab1b566",
   "metadata": {},
   "outputs": [],
   "source": [
    "df = pd.read_csv(\"/Users/ashutoshshukla/Desktop/Data/fixed_reduced_grid/192_Scenario/Final_Input1.csv\")\n",
    "unique_substations = list(df[\"SubNum\"].unique())\n",
    "\n",
    "substations = []\n",
    "for i in unique_substations:\n",
    "    substations.append(list(df[df[\"SubNum\"] == i].iloc[0,9:]))\n",
    "    \n",
    "substations = pd.DataFrame(substations)\n",
    "substations.columns = df.columns[9:]\n",
    "substations[\"id\"] = unique_substations\n",
    "substations = substations.set_index(\"id\")\n",
    "substations = substations[substations.sum(axis=1) > 0]"
   ]
  },
  {
   "cell_type": "markdown",
   "id": "8ef727c3-758c-4e1b-9d7a-f1f7101a0b57",
   "metadata": {},
   "source": [
    "* If you will fit a trend line, the statement that flooding decreases with increase in forward speed is true for higher category storms and somewhat true for lower category storms"
   ]
  },
  {
   "cell_type": "code",
   "execution_count": null,
   "id": "56398fce-103c-4ba4-b119-6e8b94ba3418",
   "metadata": {},
   "outputs": [],
   "source": [
    "forward_speeds = [\"05\", \"10\", \"15\", \"25\"]\n",
    "categories = [\"0\", \"1\", \"2\", \"3\", \"4\", \"5\"]\n",
    "#categories = [\"3\", \"4\", \"5\"]\n",
    "#categories = [\"0\", \"1\", \"2\"]\n",
    "directions = [\"wsw\", \"w\", \"wnw\", \"nw\", \"nnw\", \"n\", \"nne\", \"ne\"]\n",
    "plot_type = \"mean\"\n",
    "\n",
    "for direction in directions:\n",
    "    fig, axs = plt.subplots(2,3, figsize=(20,10))\n",
    "    for category in categories:\n",
    "        # print(\"_\" + direction + \"_\" + category)\n",
    "        if int(category) < 3:\n",
    "            y_id = int(category)\n",
    "            x_id = 0\n",
    "        else:\n",
    "            y_id = int(category) - 3\n",
    "            x_id = 1\n",
    "        if plot_type == \"max\":\n",
    "            axs[x_id, y_id].plot([5,10,15,25], substations.filter(like=\"_\" + direction + \"_\" + category).max(), marker=\".\", markersize=25, color=\"k\")\n",
    "        else:\n",
    "            axs[x_id, y_id].plot([5,10,15,25], substations.filter(like=\"_\" + direction + \"_\" + category).mean(), marker=\".\", markersize=25, color=\"k\")\n",
    "        axs[x_id, y_id].set_title(\"Direction = \" + direction + \" and category = \" + category, fontsize=18)\n",
    "        axs[x_id, y_id].set_xticks([5,10,15,25])\n",
    "        axs[x_id, y_id].set_ylabel(\"Average flood height\")"
   ]
  },
  {
   "cell_type": "code",
   "execution_count": null,
   "id": "5d5eebcc-d4d2-4209-b950-8047786a671f",
   "metadata": {},
   "outputs": [],
   "source": []
  },
  {
   "cell_type": "code",
   "execution_count": null,
   "id": "c810fc66",
   "metadata": {},
   "outputs": [],
   "source": []
  }
 ],
 "metadata": {
  "kernelspec": {
   "display_name": "Python 3 (ipykernel)",
   "language": "python",
   "name": "python3"
  },
  "language_info": {
   "codemirror_mode": {
    "name": "ipython",
    "version": 3
   },
   "file_extension": ".py",
   "mimetype": "text/x-python",
   "name": "python",
   "nbconvert_exporter": "python",
   "pygments_lexer": "ipython3",
   "version": "3.10.9"
  }
 },
 "nbformat": 4,
 "nbformat_minor": 5
}
