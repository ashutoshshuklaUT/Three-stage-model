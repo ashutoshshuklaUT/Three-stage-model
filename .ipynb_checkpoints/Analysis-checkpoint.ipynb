{
 "cells": [
  {
   "cell_type": "code",
   "execution_count": 1,
   "id": "bf9b0b72",
   "metadata": {
    "vscode": {
     "languageId": "plaintext"
    }
   },
   "outputs": [],
   "source": [
    "import os\n",
    "import json\n",
    "import pickle\n",
    "import numpy as np\n",
    "import pandas as pd\n",
    "from utils import *\n",
    "from three_stage_model import *\n",
    "\n",
    "pd.set_option('display.max_rows',500)\n",
    "pd.set_option('display.max_columns',500)\n",
    "\n",
    "import matplotlib as mpl\n",
    "import matplotlib.pyplot as plt\n",
    "import matplotlib.colors as mcolors\n",
    "from matplotlib.colors import ListedColormap\n",
    "\n",
    "%matplotlib inline"
   ]
  },
  {
   "cell_type": "markdown",
   "id": "0956a99e",
   "metadata": {},
   "source": [
    "### Generates the three default dataframes: df, df_sub, and df_flood"
   ]
  },
  {
   "cell_type": "code",
   "execution_count": 2,
   "id": "7b28b136",
   "metadata": {},
   "outputs": [],
   "source": [
    "def get_df_for_heuristic():\n",
    "    df = pd.read_csv(\"/home1/07346/ashukla/ThreeStageModel/data/192_Scenario/Final_Input1.csv\")\n",
    "    directions = [\"w\", \"wnw\", \"nw\", \"nnw\", \"n\", \"nne\"]\n",
    "    categories = [\"2\", \"3\", \"4\", \"5\"]\n",
    "    forward_speeds = [\"05\", \"10\", \"15\", \"25\"]\n",
    "    lister = []\n",
    "    for i in directions:\n",
    "        for j in range(len(categories)):\n",
    "            for k in range(len(forward_speeds)):\n",
    "                lister.append(\"max_flood_level_\" + i +\"_\" + categories[j] + \"_\" + forward_speeds[k])\n",
    "    df = df[list(df.columns[0:9]) + lister]\n",
    "    df_sub = df[[\"SubNum\", \"load\"]].groupby(\"SubNum\").sum()\n",
    "    df_flood = df[[\"SubNum\"] + lister]\n",
    "    df_flood = df_flood.drop_duplicates().set_index(\"SubNum\") # drop duplicates\n",
    "    df_flood = df_flood.loc[(df_flood.sum(axis=1) != 0), :] # drop substations that are not flooded\n",
    "    \"\"\"df_sub has load demand for all the substations\"\"\"\n",
    "    \"\"\"df_flood has only flooded substations\"\"\"\n",
    "    return df, df_sub, df_flood"
   ]
  },
  {
   "cell_type": "markdown",
   "id": "d67315e4",
   "metadata": {},
   "source": [
    "# Solution Analysis"
   ]
  },
  {
   "cell_type": "code",
   "execution_count": 3,
   "id": "309ebd71",
   "metadata": {},
   "outputs": [],
   "source": [
    "def model_analysis(main_path):    \n",
    "    \n",
    "    with open(main_path + \"model_params.json\", 'r') as f:\n",
    "        params = json.load(f)   \n",
    "    params[\"path_to_input\"] = os.getcwd() + \"/data/192_Scenario/\"\n",
    "    \n",
    "    with open(main_path + \"model_scenarios.json\", 'r') as f:\n",
    "        model_scenarios_string = json.load(f)\n",
    "    \n",
    "    model_scenarios = {}\n",
    "    for k in model_scenarios_string:\n",
    "        model_scenarios[int(k)] = model_scenarios_string[k]\n",
    "    \n",
    "    base_model = three_stage_model(params, model_scenarios)\n",
    "    base_model.model.update()\n",
    "    sol_path = main_path + \"solution.sol\"\n",
    "    base_model.model.read(sol_path)\n",
    "    base_model.model.update()\n",
    "\n",
    "    hardening_decisions = {}\n",
    "    tiger_dam_decisions = {}\n",
    "\n",
    "    for sub_id in df_flood.index:\n",
    "        hardening_decisions[sub_id] = round(base_model.x_mit[sub_id].Start*params[\"mit_level\"])\n",
    "    for sub_id in df_flood.index:\n",
    "        for j in model_scenarios:\n",
    "            tiger_dam_decisions[str(sub_id) + \"_\" + str(j)] = round(base_model.x_prep[sub_id,j].Start*params[\"prep_level\"])\n",
    "    \n",
    "    with open(main_path + 'first_stage_decisions.json', 'w') as fp:\n",
    "        json.dump(hardening_decisions, fp)\n",
    "    \n",
    "    with open(main_path + 'second_stage_decisions.json', 'w') as fp:\n",
    "        json.dump(tiger_dam_decisions, fp)\n",
    "    \n",
    "    return hardening_decisions, tiger_dam_decisions, base_model"
   ]
  },
  {
   "cell_type": "markdown",
   "id": "781e426e",
   "metadata": {},
   "source": [
    "### Parsing solutions from .sol files and saving them in .json files"
   ]
  },
  {
   "cell_type": "code",
   "execution_count": 4,
   "id": "5218e337",
   "metadata": {},
   "outputs": [],
   "source": [
    "df, df_sub, df_flood = get_df_for_heuristic()"
   ]
  },
  {
   "cell_type": "code",
   "execution_count": null,
   "id": "4e27ad55",
   "metadata": {},
   "outputs": [
    {
     "name": "stdout",
     "output_type": "stream",
     "text": [
      "250\n",
      "Set parameter TokenServer to value \"license02.tacc.utexas.edu\"\n",
      "500\n",
      "1000\n",
      "2000\n",
      "3000\n",
      "4000\n",
      "5000\n"
     ]
    }
   ],
   "source": [
    "# main_path = \"/work2/07346/ashukla/ls6/ThreeStageModel/output/granular_perfect_prediction/\"\n",
    "# perf_h, perf_t, perf_b = model_analysis(main_path)\n",
    "\n",
    "voll_list = [250,500,1000,2000,3000,4000,5000,6000]\n",
    "\n",
    "for i in voll_list:\n",
    "    print(i)\n",
    "    main_path = \"/work2/07346/ashukla/ls6/ThreeStageModel/output/perfect_prediction_\" + str(i) + \"/\"\n",
    "    voll_h, voll_t, voll_b = model_analysis(main_path)"
   ]
  },
  {
   "cell_type": "code",
   "execution_count": 6,
   "id": "1995bdf7",
   "metadata": {},
   "outputs": [],
   "source": [
    "# voll_list = [250,500,1000,2000,3000,4000,5000,6000]\n",
    "\n",
    "# for i in voll_list:\n",
    "#     print(i)\n",
    "#     main_path = \"/work2/07346/ashukla/ls6/ThreeStageModel/output/granular_voll_\" + str(i) + \"/\"\n",
    "#     voll_h, voll_t, voll_b = model_analysis(main_path)"
   ]
  },
  {
   "cell_type": "code",
   "execution_count": 9,
   "id": "a2081368",
   "metadata": {},
   "outputs": [],
   "source": [
    "main_path = \"/work2/07346/ashukla/ls6/ThreeStageModel/output/granular_perfect_prediction/\"\n",
    "\n",
    "with open(main_path + \"first_stage_decisions.json\") as f:\n",
    "    hardening = json.load(f)\n",
    "    \n",
    "with open(main_path + \"second_stage_decisions.json\") as f:\n",
    "    td = json.load(f)"
   ]
  },
  {
   "cell_type": "code",
   "execution_count": 21,
   "id": "49a86b97",
   "metadata": {},
   "outputs": [
    {
     "name": "stdout",
     "output_type": "stream",
     "text": [
      "VOLL is\t 250\n",
      "Count is\t 32\n",
      "Budget PP and VOLl are \t 636 330\n",
      "*********************************\n",
      "*********************************\n",
      "*********************************\n",
      "*********************************\n",
      "VOLL is\t 500\n",
      "Count is\t 21\n",
      "Budget PP and VOLl are \t 636 450\n",
      "*********************************\n",
      "*********************************\n",
      "*********************************\n",
      "*********************************\n",
      "VOLL is\t 1000\n",
      "Count is\t 17\n",
      "Budget PP and VOLl are \t 636 513\n",
      "*********************************\n",
      "*********************************\n",
      "*********************************\n",
      "*********************************\n",
      "VOLL is\t 2000\n",
      "Count is\t 10\n",
      "Budget PP and VOLl are \t 636 564\n",
      "*********************************\n",
      "*********************************\n",
      "*********************************\n",
      "*********************************\n",
      "VOLL is\t 3000\n",
      "Count is\t 7\n",
      "Budget PP and VOLl are \t 636 597\n",
      "*********************************\n",
      "*********************************\n",
      "*********************************\n",
      "*********************************\n",
      "VOLL is\t 4000\n",
      "Count is\t 3\n",
      "Budget PP and VOLl are \t 636 621\n",
      "*********************************\n",
      "*********************************\n",
      "*********************************\n",
      "*********************************\n",
      "VOLL is\t 5000\n",
      "Count is\t 2\n",
      "Budget PP and VOLl are \t 636 624\n",
      "*********************************\n",
      "*********************************\n",
      "*********************************\n",
      "*********************************\n",
      "VOLL is\t 6000\n",
      "Count is\t 2\n",
      "Budget PP and VOLl are \t 636 642\n",
      "*********************************\n",
      "*********************************\n",
      "*********************************\n",
      "*********************************\n"
     ]
    }
   ],
   "source": [
    "voll_list = [250,500,1000,2000,3000,4000,5000,6000]\n",
    "\n",
    "for i in voll_list:\n",
    "    print(\"VOLL is\\t\", i)\n",
    "    main_path = \"/work2/07346/ashukla/ls6/ThreeStageModel/output/granular_voll_\" + str(i) + \"/\"\n",
    "    with open(main_path + \"first_stage_decisions.json\") as f:\n",
    "        voll_h = json.load(f)\n",
    "    with open(main_path + \"second_stage_decisions.json\") as f:\n",
    "        voll_td = json.load(f)\n",
    "        \n",
    "    \n",
    "    \n",
    "    budget_pp = 0\n",
    "    budget_v = 0\n",
    "    counter = 0\n",
    "    for j in df_flood.index:\n",
    "        j = str(j)\n",
    "        budget_pp = budget_pp + hardening[j]\n",
    "        budget_v = budget_v + voll_h[j]\n",
    "        \n",
    "        if voll_h[j] != hardening[j]:\n",
    "            #print(j, voll_h[j], hardening[j])\n",
    "            counter = counter + 1\n",
    "    print(\"Count is\\t\", counter)\n",
    "    print(\"Budget PP and VOLl are \\t\", budget_pp, budget_v)\n",
    "    print(\"*********************************\")\n",
    "    print(\"*********************************\")\n",
    "    print(\"*********************************\")\n",
    "    print(\"*********************************\")"
   ]
  },
  {
   "cell_type": "code",
   "execution_count": 14,
   "id": "4ef7c2ea",
   "metadata": {},
   "outputs": [
    {
     "data": {
      "text/plain": [
       "{'241': 0,\n",
       " '247': 12,\n",
       " '274': 18,\n",
       " '286': 0,\n",
       " '287': 0,\n",
       " '288': 0,\n",
       " '297': 12,\n",
       " '299': 12,\n",
       " '301': 15,\n",
       " '311': 9,\n",
       " '314': 0,\n",
       " '327': 9,\n",
       " '329': 0,\n",
       " '332': 9,\n",
       " '334': 15,\n",
       " '340': 18,\n",
       " '343': 18,\n",
       " '349': 15,\n",
       " '350': 0,\n",
       " '923': 12,\n",
       " '929': 0,\n",
       " '932': 18,\n",
       " '948': 0,\n",
       " '951': 0,\n",
       " '952': 15,\n",
       " '953': 21,\n",
       " '954': 21,\n",
       " '955': 12,\n",
       " '956': 12,\n",
       " '957': 15,\n",
       " '958': 0,\n",
       " '959': 0,\n",
       " '969': 12,\n",
       " '972': 0,\n",
       " '973': 15,\n",
       " '977': 0,\n",
       " '979': 15,\n",
       " '984': 21,\n",
       " '986': 12,\n",
       " '993': 0,\n",
       " '1001': 0,\n",
       " '1015': 0,\n",
       " '1016': 15,\n",
       " '1025': 0,\n",
       " '1032': 12,\n",
       " '1053': 0,\n",
       " '1060': 0,\n",
       " '1061': 0,\n",
       " '1062': 21,\n",
       " '1065': 21,\n",
       " '1069': 9,\n",
       " '1070': 12,\n",
       " '1074': 0,\n",
       " '1075': 12,\n",
       " '1082': 12,\n",
       " '1083': 9,\n",
       " '1084': 0,\n",
       " '1090': 9,\n",
       " '1096': 15,\n",
       " '1099': 0,\n",
       " '1104': 0,\n",
       " '1107': 18,\n",
       " '1110': 0,\n",
       " '1111': 21,\n",
       " '1129': 0,\n",
       " '1130': 9,\n",
       " '1132': 21,\n",
       " '1133': 12,\n",
       " '1136': 15,\n",
       " '1141': 9,\n",
       " '1143': 0,\n",
       " '1145': 21}"
      ]
     },
     "execution_count": 14,
     "metadata": {},
     "output_type": "execute_result"
    }
   ],
   "source": [
    "hardening"
   ]
  },
  {
   "cell_type": "code",
   "execution_count": null,
   "id": "9e0d4ea8",
   "metadata": {},
   "outputs": [],
   "source": []
  }
 ],
 "metadata": {
  "kernelspec": {
   "display_name": "Python 3 (ipykernel)",
   "language": "python",
   "name": "python3"
  },
  "language_info": {
   "codemirror_mode": {
    "name": "ipython",
    "version": 3
   },
   "file_extension": ".py",
   "mimetype": "text/x-python",
   "name": "python",
   "nbconvert_exporter": "python",
   "pygments_lexer": "ipython3",
   "version": "3.9.7"
  }
 },
 "nbformat": 4,
 "nbformat_minor": 5
}
