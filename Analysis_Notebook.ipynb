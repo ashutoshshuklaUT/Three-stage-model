{
 "cells": [
  {
   "cell_type": "code",
   "execution_count": 12,
   "id": "0c7f9c77-57bf-44e2-bbf4-238233046451",
   "metadata": {},
   "outputs": [],
   "source": [
    "import os\n",
    "import sys\n",
    "import json\n",
    "from utils import *\n",
    "from three_stage_model import *"
   ]
  },
  {
   "cell_type": "code",
   "execution_count": 13,
   "id": "light-progress",
   "metadata": {},
   "outputs": [],
   "source": [
    "main_path = \"/work2/07346/ashukla/stampede2/ThreeStageModel/output/voll_6000/\""
   ]
  },
  {
   "cell_type": "code",
   "execution_count": 14,
   "id": "disabled-corps",
   "metadata": {},
   "outputs": [],
   "source": [
    "with open(main_path + \"model_params.json\", 'r') as f:\n",
    "    params = json.load(f)\n",
    "    \n",
    "with open(main_path + \"model_scenarios.json\", 'r') as f:\n",
    "    model_scenarios_string = json.load(f)\n",
    "\n",
    "model_scenarios = {}\n",
    "for k in model_scenarios_string:\n",
    "    model_scenarios[int(k)] = model_scenarios_string[k]"
   ]
  },
  {
   "cell_type": "code",
   "execution_count": 15,
   "id": "alpha-herald",
   "metadata": {},
   "outputs": [],
   "source": [
    "# voll 6000"
   ]
  },
  {
   "cell_type": "code",
   "execution_count": 16,
   "id": "incoming-billy",
   "metadata": {},
   "outputs": [
    {
     "name": "stdout",
     "output_type": "stream",
     "text": [
      "Set parameter TokenServer to value \"license02.tacc.utexas.edu\"\n"
     ]
    }
   ],
   "source": [
    "params[\"path_to_input\"] = os.getcwd() + \"/data/192_Scenario/\"\n",
    "base_model = three_stage_model(params, model_scenarios)\n",
    "base_model.model.update()\n",
    "sol_path = main_path + \"solution.sol\"\n",
    "base_model.model.read(sol_path)\n",
    "base_model.model.update()"
   ]
  },
  {
   "cell_type": "code",
   "execution_count": 17,
   "id": "miniature-musician",
   "metadata": {},
   "outputs": [
    {
     "name": "stdout",
     "output_type": "stream",
     "text": [
      "0.24259259259258792 64.42500000000005 1.054879999990419 4.320000000000083\n"
     ]
    }
   ],
   "source": [
    "print(base_model.model.getVarByName('i_oc').Start/1e6,\n",
    "      base_model.model.getVarByName('i_mitigation').Start/1e6,\n",
    "      base_model.model.getVarByName('i_voll').Start/1e6,\n",
    "      base_model.model.getVarByName('i_preparedness').Start/1e6)"
   ]
  },
  {
   "cell_type": "code",
   "execution_count": 18,
   "id": "completed-purple",
   "metadata": {},
   "outputs": [
    {
     "data": {
      "text/plain": [
       "5.6e-05"
      ]
     },
     "execution_count": 18,
     "metadata": {},
     "output_type": "execute_result"
    }
   ],
   "source": [
    "sys.getsizeof(base_model)/1e6"
   ]
  },
  {
   "cell_type": "code",
   "execution_count": null,
   "id": "357328ce-6980-4f9e-97ad-44aaa76edb9b",
   "metadata": {},
   "outputs": [],
   "source": [
    "print(base_model.model.getVarByName('i_oc').Start/1e6,\n",
    "      base_model.model.getVarByName('i_mitigation').Start/1e6,\n",
    "      base_model.model.getVarByName('i_voll').Start/1e6,\n",
    "      base_model.model.getVarByName('i_preparedness').Start/1e6)"
   ]
  },
  {
   "cell_type": "code",
   "execution_count": null,
   "id": "919d3052-52ec-4003-ac70-7dd155614768",
   "metadata": {},
   "outputs": [],
   "source": [
    "for sub_id in base_model.substations:\n",
    "    print(sub_id, base_model.model.getVarByName('i_oc').Start)"
   ]
  },
  {
   "cell_type": "code",
   "execution_count": null,
   "id": "82344426-4115-4f9c-a923-5cb745fe6b89",
   "metadata": {},
   "outputs": [],
   "source": []
  }
 ],
 "metadata": {
  "kernelspec": {
   "display_name": "Python 3",
   "language": "python",
   "name": "python3"
  },
  "language_info": {
   "codemirror_mode": {
    "name": "ipython",
    "version": 3
   },
   "file_extension": ".py",
   "mimetype": "text/x-python",
   "name": "python",
   "nbconvert_exporter": "python",
   "pygments_lexer": "ipython3",
   "version": "3.7.0"
  }
 },
 "nbformat": 4,
 "nbformat_minor": 5
}
