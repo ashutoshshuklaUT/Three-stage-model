{
 "cells": [
  {
   "cell_type": "code",
   "execution_count": 1,
   "id": "bf9b0b72",
   "metadata": {
    "vscode": {
     "languageId": "plaintext"
    }
   },
   "outputs": [],
   "source": [
    "import os\n",
    "import json\n",
    "import pickle\n",
    "import numpy as np\n",
    "import pandas as pd\n",
    "from utils import *\n",
    "from three_stage_model import *\n",
    "\n",
    "pd.set_option('display.max_rows',500)\n",
    "pd.set_option('display.max_columns',500)\n",
    "\n",
    "import matplotlib as mpl\n",
    "import matplotlib.pyplot as plt\n",
    "import matplotlib.colors as mcolors\n",
    "from matplotlib.colors import ListedColormap\n",
    "\n",
    "%matplotlib inline"
   ]
  },
  {
   "cell_type": "markdown",
   "id": "0956a99e",
   "metadata": {},
   "source": [
    "### Generates the three default dataframes: df, df_sub, and df_flood"
   ]
  },
  {
   "cell_type": "code",
   "execution_count": 2,
   "id": "7b28b136",
   "metadata": {},
   "outputs": [],
   "source": [
    "def get_df_for_heuristic():\n",
    "    df = pd.read_csv(\"/home1/07346/ashukla/ThreeStageModel/data/192_Scenario/Final_Input1.csv\")\n",
    "    directions = [\"w\", \"wnw\", \"nw\", \"nnw\", \"n\", \"nne\"]\n",
    "    categories = [\"2\", \"3\", \"4\", \"5\"]\n",
    "    forward_speeds = [\"05\", \"10\", \"15\", \"25\"]\n",
    "    lister = []\n",
    "    for i in directions:\n",
    "        for j in range(len(categories)):\n",
    "            for k in range(len(forward_speeds)):\n",
    "                lister.append(\"max_flood_level_\" + i +\"_\" + categories[j] + \"_\" + forward_speeds[k])\n",
    "    df = df[list(df.columns[0:9]) + lister]\n",
    "    df_sub = df[[\"SubNum\", \"load\"]].groupby(\"SubNum\").sum()\n",
    "    df_flood = df[[\"SubNum\"] + lister]\n",
    "    df_flood = df_flood.drop_duplicates().set_index(\"SubNum\") # drop duplicates\n",
    "    df_flood = df_flood.loc[(df_flood.sum(axis=1) != 0), :] # drop substations that are not flooded\n",
    "    \"\"\"df_sub has load demand for all the substations\"\"\"\n",
    "    \"\"\"df_flood has only flooded substations\"\"\"\n",
    "    return df, df_sub, df_flood"
   ]
  },
  {
   "cell_type": "markdown",
   "id": "d67315e4",
   "metadata": {},
   "source": [
    "### Solution Analysis"
   ]
  },
  {
   "cell_type": "code",
   "execution_count": 3,
   "id": "309ebd71",
   "metadata": {},
   "outputs": [],
   "source": [
    "def model_analysis(main_path):    \n",
    "    \n",
    "    with open(main_path + \"model_params.json\", 'r') as f:\n",
    "        params = json.load(f)   \n",
    "    params[\"path_to_input\"] = os.getcwd() + \"/data/192_Scenario/\"\n",
    "    \n",
    "    with open(main_path + \"model_scenarios.json\", 'r') as f:\n",
    "        model_scenarios_string = json.load(f)\n",
    "    \n",
    "    model_scenarios = {}\n",
    "    for k in model_scenarios_string:\n",
    "        model_scenarios[int(k)] = model_scenarios_string[k]\n",
    "    \n",
    "    base_model = three_stage_model(params, model_scenarios)\n",
    "    base_model.model.update()\n",
    "    sol_path = main_path + \"solution.sol\"\n",
    "    base_model.model.read(sol_path)\n",
    "    base_model.model.update()\n",
    "\n",
    "    hardening_decisions = {}\n",
    "    tiger_dam_decisions = {}\n",
    "\n",
    "    for sub_id in df_flood.index:\n",
    "        hardening_decisions[sub_id] = round(base_model.x_mit[sub_id].Start*params[\"mit_level\"])\n",
    "    for sub_id in df_flood.index:\n",
    "        for j in model_scenarios:\n",
    "            tiger_dam_decisions[str(sub_id) + \"_\" + str(j)] = round(base_model.x_prep[sub_id,j].Start*params[\"prep_level\"])\n",
    "    \n",
    "    with open(main_path + 'first_stage_decisions.json', 'w') as fp:\n",
    "        json.dump(hardening_decisions, fp)\n",
    "    \n",
    "    with open(main_path + 'second_stage_decisions.json', 'w') as fp:\n",
    "        json.dump(tiger_dam_decisions, fp)\n",
    "    \n",
    "    return hardening_decisions, tiger_dam_decisions, base_model"
   ]
  },
  {
   "cell_type": "markdown",
   "id": "6f88fa8f",
   "metadata": {},
   "source": [
    "### Parsing solutions from .sol files and saving them in .json files"
   ]
  },
  {
   "cell_type": "code",
   "execution_count": 4,
   "id": "5218e337",
   "metadata": {},
   "outputs": [],
   "source": [
    "df, df_sub, df_flood = get_df_for_heuristic()"
   ]
  },
  {
   "cell_type": "code",
   "execution_count": null,
   "id": "acfe2819",
   "metadata": {},
   "outputs": [],
   "source": [
    "# voll_list = [250,500,1000,2000,3000,4000,5000,6000]\n",
    "\n",
    "# for i in voll_list:\n",
    "#     print(i)\n",
    "#     main_path = \"/work2/07346/ashukla/ls6/ThreeStageModel/output/granular_voll_\" + str(i) + \"/\"\n",
    "#     voll_h, voll_t, voll_b = model_analysis(main_path)"
   ]
  },
  {
   "cell_type": "code",
   "execution_count": 5,
   "id": "26a78d31",
   "metadata": {},
   "outputs": [
    {
     "name": "stdout",
     "output_type": "stream",
     "text": [
      "VOLL is\t 250\n",
      "Count is\t 7\n",
      "Budget PP and VOLl are \t 333 330\n",
      "*********************************\n",
      "*********************************\n",
      "*********************************\n",
      "*********************************\n",
      "VOLL is\t 500\n",
      "Count is\t 2\n",
      "Budget PP and VOLl are \t 456 450\n",
      "*********************************\n",
      "*********************************\n",
      "*********************************\n",
      "*********************************\n",
      "VOLL is\t 1000\n",
      "Count is\t 1\n",
      "Budget PP and VOLl are \t 516 513\n",
      "*********************************\n",
      "*********************************\n",
      "*********************************\n",
      "*********************************\n",
      "VOLL is\t 2000\n",
      "Count is\t 10\n",
      "Budget PP and VOLl are \t 594 564\n",
      "*********************************\n",
      "*********************************\n",
      "*********************************\n",
      "*********************************\n",
      "VOLL is\t 3000\n",
      "Count is\t 5\n",
      "Budget PP and VOLl are \t 630 597\n",
      "*********************************\n",
      "*********************************\n",
      "*********************************\n",
      "*********************************\n",
      "VOLL is\t 4000\n",
      "Count is\t 2\n",
      "Budget PP and VOLl are \t 633 621\n",
      "*********************************\n",
      "*********************************\n",
      "*********************************\n",
      "*********************************\n",
      "VOLL is\t 5000\n",
      "Count is\t 2\n",
      "Budget PP and VOLl are \t 636 624\n",
      "*********************************\n",
      "*********************************\n",
      "*********************************\n",
      "*********************************\n",
      "VOLL is\t 6000\n",
      "Count is\t 2\n",
      "Budget PP and VOLl are \t 636 642\n",
      "*********************************\n",
      "*********************************\n",
      "*********************************\n",
      "*********************************\n"
     ]
    }
   ],
   "source": [
    "voll_list = [250,500,1000,2000,3000,4000,5000,6000]\n",
    "\n",
    "for i in voll_list:\n",
    "    print(\"VOLL is\\t\", i)\n",
    "    \n",
    "    main_path = \"/work2/07346/ashukla/ls6/ThreeStageModel/output/granular_voll_\" + str(i) + \"/\"\n",
    "    with open(main_path + \"first_stage_decisions.json\") as f:\n",
    "        voll_h = json.load(f)\n",
    "    with open(main_path + \"second_stage_decisions.json\") as f:\n",
    "        voll_td = json.load(f)\n",
    "        \n",
    "    main_path = \"/work2/07346/ashukla/ls6/ThreeStageModel/output/perfect_prediction_\" + str(i) + \"/\"\n",
    "    with open(main_path + \"first_stage_decisions.json\") as f:\n",
    "        hardening = json.load(f)\n",
    "    with open(main_path + \"second_stage_decisions.json\") as f:\n",
    "        td = json.load(f)\n",
    "    \n",
    "    \n",
    "    budget_pp = 0\n",
    "    budget_v = 0\n",
    "    counter = 0\n",
    "    for j in df_flood.index:\n",
    "        j = str(j)\n",
    "        budget_pp = budget_pp + hardening[j]\n",
    "        budget_v = budget_v + voll_h[j]\n",
    "        \n",
    "        if voll_h[j] != hardening[j]:\n",
    "            #print(j, voll_h[j], hardening[j])\n",
    "            counter = counter + 1\n",
    "    print(\"Count is\\t\", counter)\n",
    "    print(\"Budget PP and VOLl are \\t\", budget_pp, budget_v)\n",
    "    print(\"*********************************\")\n",
    "    print(\"*********************************\")\n",
    "    print(\"*********************************\")\n",
    "    print(\"*********************************\")"
   ]
  },
  {
   "cell_type": "code",
   "execution_count": null,
   "id": "cffdfb15",
   "metadata": {},
   "outputs": [],
   "source": [
    "hardening"
   ]
  },
  {
   "cell_type": "code",
   "execution_count": null,
   "id": "c6e2add6",
   "metadata": {},
   "outputs": [],
   "source": []
  }
 ],
 "metadata": {
  "kernelspec": {
   "display_name": "Python 3 (ipykernel)",
   "language": "python",
   "name": "python3"
  },
  "language_info": {
   "codemirror_mode": {
    "name": "ipython",
    "version": 3
   },
   "file_extension": ".py",
   "mimetype": "text/x-python",
   "name": "python",
   "nbconvert_exporter": "python",
   "pygments_lexer": "ipython3",
   "version": "3.9.7"
  }
 },
 "nbformat": 4,
 "nbformat_minor": 5
}
